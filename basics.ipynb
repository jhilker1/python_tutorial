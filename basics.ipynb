{
  "nbformat": 4,
  "nbformat_minor": 0,
  "metadata": {
    "colab": {
      "name": "basics.ipynb",
      "private_outputs": true,
      "provenance": [],
      "toc_visible": true,
      "authorship_tag": "ABX9TyN5Hw8eVLh2J7G3jrTPqtDs",
      "include_colab_link": true
    },
    "kernelspec": {
      "name": "python3",
      "display_name": "Python 3"
    }
  },
  "cells": [
    {
      "cell_type": "markdown",
      "metadata": {
        "id": "view-in-github",
        "colab_type": "text"
      },
      "source": [
        "<a href=\"https://colab.research.google.com/github/jhilker1/python_tutorial/blob/main/basics.ipynb\" target=\"_parent\"><img src=\"https://colab.research.google.com/assets/colab-badge.svg\" alt=\"Open In Colab\"/></a>"
      ]
    },
    {
      "cell_type": "markdown",
      "metadata": {
        "id": "tvlkdNSeEMwX"
      },
      "source": [
        "# Python Basics\n",
        "Python is a very easy language to start learning to code in. While useful for many different things, it is primarily used for data science and analysis, with the NumPy and Pandas modules.\n",
        "\n",
        "Note: Whille I am using printing for the examples in this and other notebooks in the future, you can do other things beyond printing."
      ]
    },
    {
      "cell_type": "markdown",
      "metadata": {
        "id": "pp10p1G2GSag"
      },
      "source": [
        "## Variables\n",
        "Variables in Python are similar to variables in math class - both are essentially placeholders for some value or the result of a function. In straight Python, variables have 3 main types - `int`s, `str`s, and `float`s. An `int` is an integer, a `float` is a decimal number, and a `str` is text. \n",
        "\n",
        "### Creating Variables\n",
        "Creating a variable in Python is easy. All you need to do is create a name for it and assign it a value. For instance:\n",
        "```\n",
        "i = 5\n",
        "f = 3.5\n",
        "s = 'some text'\n",
        "```"
      ]
    },
    {
      "cell_type": "markdown",
      "metadata": {
        "id": "XGLE7TTqEvGC"
      },
      "source": [
        "## Printing\n",
        "Many times you will want to print something to the screen - whether you are debugging your code or you need to view basic statistics for a list. \n",
        "\n",
        "To print something, use the `print` function, and give it either a string or a variable you want to print. For instance, let's start with the simplest Python program - Hello World.\n"
      ]
    },
    {
      "cell_type": "code",
      "metadata": {
        "id": "FEhmtztJD3eF"
      },
      "source": [
        "print('Hello World')"
      ],
      "execution_count": null,
      "outputs": []
    },
    {
      "cell_type": "markdown",
      "metadata": {
        "id": "YmYPAOGDzMqR"
      },
      "source": [
        "In addition, Python has a feature called \"format strings\", which let you format strings with variables so you aren't printing one variable per line For instance:"
      ]
    },
    {
      "cell_type": "markdown",
      "metadata": {
        "id": "jeXz_yL-MP7i"
      },
      "source": [
        "Now, let's print the variables from above. "
      ]
    },
    {
      "cell_type": "code",
      "metadata": {
        "id": "Kc_ETyfwMZdf"
      },
      "source": [
        "print(i)\n",
        "print(f)\n",
        "print(s)"
      ],
      "execution_count": null,
      "outputs": []
    },
    {
      "cell_type": "markdown",
      "metadata": {
        "id": "snce3D9JNPYb"
      },
      "source": [
        "Wait a minute, that looks scary!\n",
        "\n",
        "It might look scary, but that error is one of the most helpful tools when you are debugging your code. Let's take a closer look at it.\n",
        "\n",
        "### Debugging\n",
        "\n",
        "```\n",
        "---------------------------------------------------------------------------\n",
        "\n",
        "NameError                                 Traceback (most recent call last)\n",
        "\n",
        "<ipython-input-2-eb23044a9189> in <module>()\n",
        "----> 1 print(i)\n",
        "      2 print(f)\n",
        "      3 print(s)\n",
        "\n",
        "NameError: name 'i' is not defined\n",
        "```\n",
        "\n",
        "The main thing to pay attention to is that last line, where it says `NameError: name 'i' is not defined`. Since I didn't actually assign it a value (I only showed how to create a variable and assign it a value), I couldn't print those variables, since they didn't actually exist. \n"
      ]
    },
    {
      "cell_type": "code",
      "metadata": {
        "id": "3wts09L8xj5s"
      },
      "source": [
        "i = 5\n",
        "f = 3.5\n",
        "s = 'some text'\n",
        "\n",
        "print(i)\n",
        "print(f)\n",
        "print(s)"
      ],
      "execution_count": null,
      "outputs": []
    },
    {
      "cell_type": "markdown",
      "metadata": {
        "id": "009hF-55ZDjv"
      },
      "source": [
        "\n",
        "## Math\n",
        "Now, you will need to do math with variables at some point. However, it is very easy to do math. You can also change the value of a variable - for instance, incrementing a variable. Here is an example with several basic math operations."
      ]
    },
    {
      "cell_type": "code",
      "metadata": {
        "id": "tP2hCBYPZPam"
      },
      "source": [
        "n = 5\n",
        "print(\"n is {}\".format(n))\n",
        "n = n + 1\n",
        "print(\"n + 1 is {}\".format(n))\n",
        "n = n - 2\n",
        "print(\"n - 2 is {}\".format(n))\n",
        "n = n * 6\n",
        "print(\"n * 6 is {}\".format(n))\n",
        "n = n / 8\n",
        "print(\"n / 8 is {}\".format(n))\n",
        "n = n ** 2\n",
        "print(\"n ^ 2 is {}\".format(n))"
      ],
      "execution_count": null,
      "outputs": []
    },
    {
      "cell_type": "markdown",
      "metadata": {
        "id": "AC3on-7_aYgU"
      },
      "source": [
        "You may have noticed that the last two were floats instead of ints. Why is that? Well, it has to do with division. Although `n / 8` in this case was 3 evenly, some times you will get a decimal. Converting a float to an int would lose information, so Python just keeps it as a float. You can convert it to an int by saying something like this:\n",
        "\n",
        "```\n",
        "n = 24\n",
        "n = n /3\n",
        "n = int(n)\n",
        "```\n",
        "\n",
        "You can do that if you know you will be getting an integer back, but I usually keep it as a float."
      ]
    },
    {
      "cell_type": "markdown",
      "metadata": {
        "id": "EsonZt8kWb3x"
      },
      "source": [
        "## Conditionals\n",
        "\n",
        "Now, let's say you have a variable you want to print, but only if some condition is true - for instance, let's say you want to print something if one value is less than another. "
      ]
    },
    {
      "cell_type": "code",
      "metadata": {
        "id": "sJ6qCKE0GtEL"
      },
      "source": [
        "x = 5\n",
        "y = 6\n",
        "\n",
        "if (x < y):\n",
        "  print(f\"x ({x}) is less than y ({y})\")"
      ],
      "execution_count": null,
      "outputs": []
    },
    {
      "cell_type": "markdown",
      "metadata": {
        "id": "R1ONI4K5Hr23"
      },
      "source": [
        "If you need to print something else based on a condition, then you can add an `else` after that print statement."
      ]
    },
    {
      "cell_type": "code",
      "metadata": {
        "id": "fcVX7COOHp4j"
      },
      "source": [
        "x = 6 \n",
        "y = 5\n",
        "if (x < y):\n",
        "  print(f\"x ({x}) is less than y ({y})\")\n",
        "else:\n",
        "  print(f\"x ({x}) is either greater than or equal to y ({y})\")"
      ],
      "execution_count": null,
      "outputs": []
    },
    {
      "cell_type": "markdown",
      "metadata": {
        "id": "4m7gVk-gLN2S"
      },
      "source": [
        "If you need to print another thing based on the condition, you can add `elif`s before the final `else`."
      ]
    },
    {
      "cell_type": "code",
      "metadata": {
        "id": "PpGfk9y7LeyL"
      },
      "source": [
        "x = 6\n",
        "y = 6\n",
        "if (x < y):\n",
        "  print(f\"x ({x}) is less than y ({y})\")\n",
        "elif (x > y):\n",
        "  print(f\"x ({x}) is greater than y ({y})\")\n",
        "else:\n",
        "  print(f\"x ({x}) = y ({y})\")"
      ],
      "execution_count": null,
      "outputs": []
    },
    {
      "cell_type": "markdown",
      "metadata": {
        "id": "fpI2GfZhAn-_"
      },
      "source": [
        "#### Negation\n",
        "Sometimes you need to evaluate if a condition is not true. You can do this by adding `not` to your conditional. For instance, see below:"
      ]
    },
    {
      "cell_type": "code",
      "metadata": {
        "id": "eK31dnvWA7aS"
      },
      "source": [
        "x = 5\n",
        "y = 6\n",
        "if (x) is not y:\n",
        "    print(\"x is not y\")\n",
        "\n",
        "a = 5\n",
        "b = 5\n",
        "if a is b:\n",
        "  print(\"a is b\")"
      ],
      "execution_count": null,
      "outputs": []
    },
    {
      "cell_type": "markdown",
      "metadata": {
        "id": "TYRgoStsBYh3"
      },
      "source": [
        "You may also see a symbol like this: `!=`. All this says is \"not equal to\"."
      ]
    },
    {
      "cell_type": "markdown",
      "metadata": {
        "id": "WSDcYL2TMhY1"
      },
      "source": [
        "### Compound Conditionals\n",
        "Now, let's say you want to print something based on multiple conditions. This is where you have multiple conditions that you want to evaluate.\n",
        "#### And \n",
        " An \"and\" statement says that all the conditional statements you pass must be True in order to run the code inside the conditional."
      ]
    },
    {
      "cell_type": "markdown",
      "metadata": {
        "id": "0VS01NrxYCux"
      },
      "source": [
        "## Functions\n",
        "\n",
        "Now, with all the code we've done so far, wouldn't it be easier to have to write one thing instead of copying and pasting code you've previously written?\n",
        "\n",
        "Functions are a way of doing that. If you need an argument for a function, write the name of that variable inside the parenthesis. It doesn't have to be defined before the function definition, and you can call it whatever you want - I would personally call it something that relates to the function at hand. As an example, if I need to pass a number to a function, I would call that variable `num` or `n`.\n",
        "\n",
        "Here is a simple \"Hello World\" function. Run this code cell before continuing."
      ]
    },
    {
      "cell_type": "code",
      "metadata": {
        "id": "UpzP7VWOVz8n"
      },
      "source": [
        "def hello():\n",
        "  print(\"Hello World\")"
      ],
      "execution_count": null,
      "outputs": []
    },
    {
      "cell_type": "markdown",
      "metadata": {
        "id": "B-S9cvkFV4Dj"
      },
      "source": [
        "You're probably wondering why it didn't print \"Hello World\" to the screen. After all, the function explicitly says to print \"Hello World\". \n",
        "\n",
        "Well, you didn't call the function. with everything inside the \"def\" essentially says, \"Hey. You print 'Hello World' to the screen, and your name is 'Hello'.\" In short, it is a function definition, which tells the function what to do. Calling a function is as easy as writing the function name, and passing any arguments to the function."
      ]
    },
    {
      "cell_type": "code",
      "metadata": {
        "id": "YcmXvKtUYTf0"
      },
      "source": [
        "hello()"
      ],
      "execution_count": null,
      "outputs": []
    },
    {
      "cell_type": "markdown",
      "metadata": {
        "id": "KR_I2H-TYhS_"
      },
      "source": [
        "# Your Turn\n",
        "Here is a very simple coding \"assignment\" that is commonly used in interviews. Complete it, and let me know when you are finished."
      ]
    },
    {
      "cell_type": "markdown",
      "metadata": {
        "id": "o5oadLPccUTn"
      },
      "source": [
        "## Fizzbuzz\n",
        "Fizzbuzz is an old British children's game. In short, two people start counting off - if the number that person says is a multiple of 3, they say 'Fizz' instead of that number. If it's a multiple of 5, they say 'Buzz'. If it's a multiple of both, they say 'FizzBuzz'.\n",
        "\n",
        "Define a function `fizzbuzz` which takes a number as an argument, and prints the result of what would happen if you had to say that number in the fizzbuzz game. To test it, you will need to use a for loop. THe for loop to test it is this:\n",
        "`for i in range(1,101):`.\n",
        "\n",
        "Note: You will need to use the modulus operator, %, for this assignment A modulus returns the remainder from division. "
      ]
    },
    {
      "cell_type": "code",
      "metadata": {
        "id": "QGLSKVPyhVLN"
      },
      "source": [
        ""
      ],
      "execution_count": null,
      "outputs": []
    }
  ]
}