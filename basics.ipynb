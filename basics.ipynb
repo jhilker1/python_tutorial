{
  "nbformat": 4,
  "nbformat_minor": 0,
  "metadata": {
    "colab": {
      "name": "basics.ipynb",
      "private_outputs": true,
      "provenance": [],
      "toc_visible": true,
      "authorship_tag": "ABX9TyOvtvwxQ5ogqIm3e4KBuA2N",
      "include_colab_link": true
    },
    "kernelspec": {
      "name": "python3",
      "display_name": "Python 3"
    }
  },
  "cells": [
    {
      "cell_type": "markdown",
      "metadata": {
        "id": "view-in-github",
        "colab_type": "text"
      },
      "source": [
        "<a href=\"https://colab.research.google.com/github/jhilker1/python_tutorial/blob/main/basics.ipynb\" target=\"_parent\"><img src=\"https://colab.research.google.com/assets/colab-badge.svg\" alt=\"Open In Colab\"/></a>"
      ]
    },
    {
      "cell_type": "markdown",
      "metadata": {
        "id": "tvlkdNSeEMwX"
      },
      "source": [
        "# Python Basics\n",
        "Python is a very easy language to start learning to code in. While useful for many different things, it is primarily used for data science and analysis, with the NumPy and Pandas modules."
      ]
    },
    {
      "cell_type": "markdown",
      "metadata": {
        "id": "pp10p1G2GSag"
      },
      "source": [
        "## Variables\n",
        "Variables in Python are similar to variables in math class - both are essentially placeholders for some value or the result of a function. In straight Python, variables have 3 main types - `int`s, `str`s, and `float`s. An `int` is an integer, a `float` is a decimal number, and a `str` is text. \n",
        "\n",
        "### Creating Variables\n",
        "Creating a variable in Python is easy. All you need to do is create a name for it and assign it a value. For instance:\n",
        "```\n",
        "i = 5\n",
        "f = 3.5\n",
        "s = 'some text'\n",
        "```"
      ]
    },
    {
      "cell_type": "markdown",
      "metadata": {
        "id": "XGLE7TTqEvGC"
      },
      "source": [
        "## Printing\n",
        "Many times you will want to print something to the screen - whether you are debugging your code or you need to view basic statistics for a list. \n",
        "\n",
        "To print something, use the `print` function, and give it either a string or a variable you want to print. For instance, let's start with the simplest Python program - Hello World.\n"
      ]
    },
    {
      "cell_type": "code",
      "metadata": {
        "id": "FEhmtztJD3eF"
      },
      "source": [
        "print('Hello World')"
      ],
      "execution_count": null,
      "outputs": []
    },
    {
      "cell_type": "markdown",
      "metadata": {
        "id": "jeXz_yL-MP7i"
      },
      "source": [
        "Now, let's print the variables from above. "
      ]
    },
    {
      "cell_type": "code",
      "metadata": {
        "id": "Kc_ETyfwMZdf"
      },
      "source": [
        "print(i)\n",
        "print(f)\n",
        "print(s)"
      ],
      "execution_count": null,
      "outputs": []
    },
    {
      "cell_type": "markdown",
      "metadata": {
        "id": "snce3D9JNPYb"
      },
      "source": [
        "Wait a minute, that looks scary!\n",
        "\n",
        "It might look scary, but that error is one of the most helpful tools when you are debugging your code. Let's take a closer look at it.\n",
        "\n",
        "### Debugging\n",
        "\n",
        "```\n",
        "---------------------------------------------------------------------------\n",
        "\n",
        "NameError                                 Traceback (most recent call last)\n",
        "\n",
        "<ipython-input-2-eb23044a9189> in <module>()\n",
        "----> 1 print(i)\n",
        "      2 print(f)\n",
        "      3 print(s)\n",
        "\n",
        "NameError: name 'i' is not defined\n",
        "```\n",
        "\n",
        "The main thing to pay attention to is that last line, where it says `NameError: name 'i' is not defined`. Since I didn't actually assign it a value (I only showed how to create a variable and assign it a value), I couldn't print those variables, since they didn't actually exist. \n"
      ]
    },
    {
      "cell_type": "markdown",
      "metadata": {
        "id": "EsonZt8kWb3x"
      },
      "source": [
        "## Conditionals\n",
        "\n",
        "TODO: Add info on Conditionals"
      ]
    },
    {
      "cell_type": "markdown",
      "metadata": {
        "id": "fbRrT_daXGom"
      },
      "source": [
        "## Data Structures\n",
        "\n",
        "TODO: Add info on lists and dicts\n"
      ]
    },
    {
      "cell_type": "markdown",
      "metadata": {
        "id": "pQ-i8ZcaZLkn"
      },
      "source": [
        "### Lists\n"
      ]
    },
    {
      "cell_type": "markdown",
      "metadata": {
        "id": "oVLRKqJIZPa-"
      },
      "source": [
        "### Dictionaries"
      ]
    },
    {
      "cell_type": "markdown",
      "metadata": {
        "id": "0VS01NrxYCux"
      },
      "source": [
        "## Functions\n",
        "TODO: Add info on functions"
      ]
    },
    {
      "cell_type": "markdown",
      "metadata": {
        "id": "KR_I2H-TYhS_"
      },
      "source": [
        "# Your Turn\n",
        "Here is a list of several tiny coding \"assignments\". Complete these, and lt me know when you are finished."
      ]
    },
    {
      "cell_type": "markdown",
      "metadata": {
        "id": "GztY_rL2Zv5B"
      },
      "source": [
        "## 1. Classes\n",
        "Create a dictionary called `my_classes`. Each key in the dictionary should be the name of a manufacturer, while each value for a key should be a list with the model and the mpg for that make and model. The dictionary should consist of 3 cars."
      ]
    },
    {
      "cell_type": "code",
      "metadata": {
        "id": "4CbIdSDwgsmC"
      },
      "source": [
        ""
      ],
      "execution_count": null,
      "outputs": []
    },
    {
      "cell_type": "markdown",
      "metadata": {
        "id": "o5oadLPccUTn"
      },
      "source": [
        "## 2. Fizzbuzz\n",
        "Fizzbuzz is an old British children's game. IN short, two people start counting off - if the number that person says is a multiple of 3, they say 'Fizz' instead of that number. If it's a multiple of 5, they say 'Buzz'. If it's a multiple of both, they say 'FizzBuzz'.\n",
        "\n",
        "Define a function `fizzbuzz` which takes a number as an argument, and prints the result of what would happen if you had to say that number in the fizzbuzz game. \n",
        "\n",
        "Note: You will need to use the modulus operator, %, for this assignment."
      ]
    },
    {
      "cell_type": "code",
      "metadata": {
        "id": "DQW0doQRgtIi"
      },
      "source": [
        ""
      ],
      "execution_count": null,
      "outputs": []
    }
  ]
}